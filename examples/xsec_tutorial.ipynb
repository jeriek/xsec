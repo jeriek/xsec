{
 "metadata": {
  "language_info": {
   "codemirror_mode": {
    "name": "ipython",
    "version": 3
   },
   "file_extension": ".py",
   "mimetype": "text/x-python",
   "name": "python",
   "nbconvert_exporter": "python",
   "pygments_lexer": "ipython3",
   "version": "3.7.7-final"
  },
  "orig_nbformat": 2,
  "kernelspec": {
   "name": "Python 3.7.7 64-bit ('pyenv37': conda)",
   "display_name": "Python 3.7.7 64-bit ('pyenv37': conda)",
   "metadata": {
    "interpreter": {
     "hash": "d3dc835135215fe15a1234574fa7ade7ef4ca65ce27070e74f9c0f16a47e2af5"
    }
   }
  }
 },
 "nbformat": 4,
 "nbformat_minor": 2,
 "cells": [
  {
   "source": [
    "# `xsec` tutorial (Tools 2020)"
   ],
   "cell_type": "markdown",
   "metadata": {}
  },
  {
   "source": [
    "In this brief tutorial we'll make a tour of the basic functionality of `xsec`. A manual describing the code structure and usage details is available at [arxiv:2006.16273](https://arxiv.org/abs/2006.16273).\n",
    "\n",
    "This tutorial can be followed in two ways:\n",
    "* The simplest way to get started immediately is to click on the Binder link and follow the notebook from within a browser.\n",
    "* Alternatively, download the notebook and follow the `xsec` installation instructions on [github.com/jeriek/xsec](https://github.com/jeriek/xsec). Depending on your setup, there's a good chance that it's as simple as running `pip install xsec` in a terminal window."
   ],
   "cell_type": "markdown",
   "metadata": {}
  },
  {
   "source": [
    "## Installing `xsec`\n",
    "It's possible to run a shell command from within a Jupyter notebook, by adding an exclamation mark in front of the command. Let's use this to install `xsec` and its dependencies."
   ],
   "cell_type": "markdown",
   "metadata": {}
  },
  {
   "cell_type": "code",
   "execution_count": null,
   "metadata": {},
   "outputs": [],
   "source": [
    "! pip install xsec"
   ]
  },
  {
   "source": [
    "## Downloading required data\n",
    "The `pip` installation **does NOT automatically include the data** required to run `xsec`. To download data after the `pip` installation, one has to execute the following shell command:\n",
    "```\n",
    "xsec-download-gprocs [-g GP_DIR] [-t PROCESS_TYPE]\n",
    "```\n",
    "The first optional argument `GP_DIR` specifies the name of the (preferably new) directory where the data files will be downloaded and extracted.\n",
    "If this argument is not specified, a new directory `gprocs` is created in the current working directory. The second optional argument `PROCESS_TYPE` allows for selecting which data to download:\n",
    "\n",
    "- `gg` (gluino pair production, 220 MB)\n",
    "- `sg` (1st/2nd gen. squark--gluino pair production, 148 MB)\n",
    "- `ss` (1st/2nd gen. squark pair production, 1.6 GB)\n",
    "- `sb` (1st/2nd gen. squark--anti-squark pair production, 766 MB)\n",
    "- `tb` (3rd gen. squark--anti-squark pair production, 210 MB)\n",
    "- `all` (everything, 3 GB)\n",
    "\n",
    "The default option is `all`, but there is no need for such a large download in this tutorial. Get started by downloading the gluino-gluino data. "
   ],
   "cell_type": "markdown",
   "metadata": {}
  },
  {
   "cell_type": "code",
   "execution_count": null,
   "metadata": {},
   "outputs": [],
   "source": [
    "! xsec-download-gprocs -t gg"
   ]
  },
  {
   "source": [
    "## First cross-section evaluation\n",
    "Let's get started immediately by computing the gluino-gluino production cross-section in the case were all squark masses are 500 GeV and the gluino mass is 1 TeV. First, we have to point `xsec` to the directory where the Gaussian process data were downloaded in the previous step.\n",
    "\n",
    "If no argument `GP_DIR` was entered earlier, the initialisation call requires no argument. Otherwise, specify the keyword `data_dir=\"GP_DIR\"`."
   ],
   "cell_type": "markdown",
   "metadata": {}
  },
  {
   "source": [
    "### Initialisation"
   ],
   "cell_type": "markdown",
   "metadata": {}
  },
  {
   "cell_type": "code",
   "execution_count": null,
   "metadata": {},
   "outputs": [],
   "source": [
    "import xsec\n",
    "\n",
    "# Set GP directory choice, default: data_dir=\"gprocs\"\n",
    "xsec.init()"
   ]
  },
  {
   "source": [
    "In this first version of the code, only 13 TeV data is publicly available. Nevertheless, this must be specified:"
   ],
   "cell_type": "markdown",
   "metadata": {}
  },
  {
   "cell_type": "code",
   "execution_count": null,
   "metadata": {},
   "outputs": [],
   "source": [
    "# Set center-of-mass energy (in GeV)\n",
    "xsec.set_energy(13000)"
   ]
  },
  {
   "source": [
    "Now, we have to specify that we want the gluino-gluino process. The `load_processes()` function takes as argument a list of all the requested processes, where each process is given as a tuple of two integers: the final-state particle identification numbers (PIDs). The gluino PID is `1000021`. A full list is available in the [PDG](https://pdg.lbl.gov/2019/reviews/rpp2019-rev-monte-carlo-numbering.pdf).  To show the full list of processes available in `xsec`, execute `xsec.list_all_xsec_processes()`. (Only the gluino-gluino data has been downloaded so far, though.)"
   ],
   "cell_type": "markdown",
   "metadata": {}
  },
  {
   "cell_type": "code",
   "execution_count": null,
   "metadata": {},
   "outputs": [],
   "source": [
    "# Load GP models for the specified process(es)\n",
    "processes = [(1000021, 1000021)]\n",
    "xsec.load_processes(processes)"
   ]
  },
  {
   "cell_type": "code",
   "execution_count": null,
   "metadata": {},
   "outputs": [],
   "source": [
    "xsec.list_all_xsec_processes()"
   ]
  },
  {
   "source": [
    "It's normal if the loading step takes a moment, as it requires decompressing the data and performing some matrix multiplications.\n",
    "This step only needs to be done once at the start of a script. "
   ],
   "cell_type": "markdown",
   "metadata": {}
  },
  {
   "source": [
    "### Setting parameters\n",
    "For this simple first example with degenerate squark-masses, we can just set the required parameters with some convenience functions:"
   ],
   "cell_type": "markdown",
   "metadata": {}
  },
  {
   "cell_type": "code",
   "execution_count": null,
   "metadata": {},
   "outputs": [],
   "source": [
    "# Set parameter values\n",
    "xsec.set_all_squark_masses(500)\n",
    "xsec.set_gluino_mass(1000)"
   ]
  },
  {
   "source": [
    "You can always check the current values of the parameters:"
   ],
   "cell_type": "markdown",
   "metadata": {}
  },
  {
   "cell_type": "code",
   "execution_count": null,
   "metadata": {},
   "outputs": [],
   "source": [
    "xsec.get_parameters()"
   ]
  },
  {
   "source": [
    "### Evaluation\n",
    "Everything is set for the evaluation!"
   ],
   "cell_type": "markdown",
   "metadata": {}
  },
  {
   "cell_type": "code",
   "execution_count": null,
   "metadata": {},
   "outputs": [],
   "source": [
    "# Evaluate the cross section with the given input parameters\n",
    "xsec.eval_xsection()"
   ]
  },
  {
   "source": [
    "The first output value is the central-scale cross-section value in femtobarn. The other values are, respectively, the relative lower/upper regression error and uncertainties from scale, PDF and $\\alpha_s$ variation. As you see at the bottom of the terminal output, the `eval_xsection()` call returns a `numpy` array with all if this information."
   ],
   "cell_type": "markdown",
   "metadata": {}
  },
  {
   "source": [
    "`eval_xsection()` takes an optional keyword argument to control how much information is printed in the terminal window. By default, `verbose=2`. For single-line output, try setting `verbose=1`. (`verbose=0` prints nothing, so the return array must be caught or the prediction information is lost.)  "
   ],
   "cell_type": "markdown",
   "metadata": {}
  },
  {
   "source": [
    "To finish the evaluation procedure, one can run the `finalise()` command. Here, it will only create a `.bib` file with the bibliographic references relevant to the computed results."
   ],
   "cell_type": "markdown",
   "metadata": {}
  },
  {
   "cell_type": "code",
   "execution_count": null,
   "metadata": {},
   "outputs": [],
   "source": [
    "# Finalise the evaluation procedure\n",
    "xsec.finalise()"
   ]
  },
  {
   "source": [
    "## Setting all parameters\n"
   ],
   "cell_type": "markdown",
   "metadata": {}
  },
  {
   "source": [
    "Let's first clear all parameters set in the previous example."
   ],
   "cell_type": "markdown",
   "metadata": {}
  },
  {
   "cell_type": "code",
   "execution_count": null,
   "metadata": {},
   "outputs": [],
   "source": [
    "xsec.clear_parameters()"
   ]
  },
  {
   "source": [
    "Often, the convenience functions used earlier to set the parameters don't suffice. Then the parameters can be set one by one, using `xsec.set_parameter(\"parameter_name\",value)`, or all at once with a dictionary:"
   ],
   "cell_type": "markdown",
   "metadata": {}
  },
  {
   "cell_type": "code",
   "execution_count": null,
   "metadata": {},
   "outputs": [],
   "source": [
    "# Enter dictionary with parameter values\n",
    "xsec.set_parameters(\n",
    "    {\n",
    "        \"m1000021\": 1000,\n",
    "        \"m1000001\": 500,\n",
    "        \"m1000002\": 500,\n",
    "        \"m1000003\": 500,\n",
    "        \"m1000004\": 500,\n",
    "        \"m1000005\": 500,\n",
    "        \"m1000006\": 500,\n",
    "        \"m2000001\": 500,\n",
    "        \"m2000002\": 500,\n",
    "        \"m2000003\": 500,\n",
    "        \"m2000004\": 500,\n",
    "        \"m2000005\": 500,\n",
    "        \"m2000006\": 500,\n",
    "        \"sbotmix11\": 0,\n",
    "        \"stopmix11\": 0,\n",
    "        \"mean\": 500,\n",
    "    }\n",
    ")"
   ]
  },
  {
   "source": [
    "We can again evaluate the cross-section:"
   ],
   "cell_type": "markdown",
   "metadata": {}
  },
  {
   "cell_type": "code",
   "execution_count": null,
   "metadata": {},
   "outputs": [],
   "source": [
    "xsec.eval_xsection()"
   ]
  },
  {
   "source": [
    "Unsurprisingly, the result is the same as earlier. Let's change the $\\tilde{d_L}$ mass and see what happens to the cross-section. Remember that you can always check the current values with `get_parameters()`."
   ],
   "cell_type": "markdown",
   "metadata": {}
  },
  {
   "cell_type": "code",
   "execution_count": null,
   "metadata": {},
   "outputs": [],
   "source": [
    "xsec.set_parameter(\"m1000001\", 1500)\n",
    "xsec.eval_xsection()"
   ]
  },
  {
   "source": [
    "This leads to an error! Indeed, since we change the $\\tilde{d}_L$ mass, the average mass of the 1st- and 2nd-generation masses is no longer 500 GeV, leading to an inconsistency. The help message indicates that we should update that parameter to 625 GeV. One way to do this is by running `xsec.set_parameter(\"mean\", 625)`. Another option is to simply run "
   ],
   "cell_type": "markdown",
   "metadata": {}
  },
  {
   "cell_type": "code",
   "execution_count": null,
   "metadata": {},
   "outputs": [],
   "source": [
    "xsec.parameters.calc_mean_squark_mass()"
   ]
  },
  {
   "source": [
    "Verify that this worked: "
   ],
   "cell_type": "markdown",
   "metadata": {}
  },
  {
   "cell_type": "code",
   "execution_count": null,
   "metadata": {},
   "outputs": [],
   "source": [
    "xsec.get_parameter(\"mean\")"
   ]
  },
  {
   "source": [
    "Let's try the cross-section evaluation again!"
   ],
   "cell_type": "markdown",
   "metadata": {}
  },
  {
   "cell_type": "code",
   "execution_count": null,
   "metadata": {},
   "outputs": [],
   "source": [
    "xsec.eval_xsection()"
   ]
  },
  {
   "source": [
    "## Task\n",
    "* Clear all parameters.\n",
    "* Download the squark-gluino production data, and load the $\\tilde{g}\\tilde{u}_L$ process in `xsec`. \n",
    "* Verify which parameters are required for this process, by looking at Table 1 in the `xsec` paper.\n",
    "* Set the $\\tilde{u}_L$ mass and the mean 1st- and 2nd-generation squark mass (`mean`) to 1 TeV, and write a loop varying the gluino mass between 500 GeV and 3 TeV. Ensure that only a single line is printed for each prediction, by choosing the right `verbosity` level.\n",
    "* Compare your result to the left-hand plot of Fig. 9 in the `xsec` paper."
   ],
   "cell_type": "markdown",
   "metadata": {}
  },
  {
   "source": [
    "This covers most of the basic usage of `xsec`! Further instructions on SLHA input, the command-line interface and cache options are described in the accompanying paper. Feel free to open a GitHub issue if you discover a bug or have any question concerning the code. Thanks for following along and good luck hunting for SUSY!"
   ],
   "cell_type": "markdown",
   "metadata": {}
  }
 ]
}